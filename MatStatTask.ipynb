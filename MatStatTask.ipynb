{
  "nbformat": 4,
  "nbformat_minor": 0,
  "metadata": {
    "colab": {
      "name": "MatStatTask.ipynb",
      "provenance": [],
      "collapsed_sections": [],
      "toc_visible": true,
      "include_colab_link": true
    },
    "kernelspec": {
      "name": "python3",
      "display_name": "Python 3"
    },
    "language_info": {
      "name": "python"
    }
  },
  "cells": [
    {
      "cell_type": "markdown",
      "metadata": {
        "id": "view-in-github",
        "colab_type": "text"
      },
      "source": [
        "<a href=\"https://colab.research.google.com/github/DFCZVasya/mat_stat_task/blob/main/MatStatTask.ipynb\" target=\"_parent\"><img src=\"https://colab.research.google.com/assets/colab-badge.svg\" alt=\"Open In Colab\"/></a>"
      ]
    },
    {
      "cell_type": "markdown",
      "source": [
        "#Первое задание"
      ],
      "metadata": {
        "id": "x7n2yw_oJFU1"
      }
    },
    {
      "cell_type": "code",
      "source": [
        "from google.colab import output\n",
        "output.enable_custom_widget_manager()"
      ],
      "metadata": {
        "id": "yQlmZlAPY_p7"
      },
      "execution_count": 293,
      "outputs": []
    },
    {
      "cell_type": "code",
      "source": [
        "import math\n",
        "import numpy as np\n",
        "from scipy.stats import norm, kstwobign\n",
        "from scipy.stats.distributions import chi2, t, f"
      ],
      "metadata": {
        "id": "VCUfe4oWiCfa"
      },
      "execution_count": 294,
      "outputs": []
    },
    {
      "cell_type": "code",
      "execution_count": 295,
      "metadata": {
        "id": "peCuz6scEtbN"
      },
      "outputs": [],
      "source": [
        "data = [-1.736, -0.550, -1.637, -1.896, -1.123, -1.649, -0.736, 0.372, -1.744, -0.723,\n",
        "-1.794, -1.130, -1.428, -1.757, -1.914, -1.333, -1.622, -1.127, -0.733, -0.235,\n",
        "0.571, -0.285, -1.875, 1.439, -2.456, -0.315, 0.096, 0.067, -0.922, -0.494,\n",
        "-0.619, -0.730, -2.073, -2.271, -1.844, 0.498, -0.474, -0.211, -0.319, -0.595,\n",
        "-2.647, -1.198, -1.479, 0.336, -0.259, -0.160, -1.701, -2.505, -1.641, -0.720]\n"
      ]
    },
    {
      "cell_type": "code",
      "source": [
        "data = np.array(data)\n",
        "mean = data.mean()"
      ],
      "metadata": {
        "id": "4e0KeyifHnJ6"
      },
      "execution_count": 296,
      "outputs": []
    },
    {
      "cell_type": "code",
      "source": [
        "mean"
      ],
      "metadata": {
        "colab": {
          "base_uri": "https://localhost:8080/"
        },
        "id": "0USHVrQ3H2f-",
        "outputId": "22703782-d6ff-4948-ce16-11f54c4e0be6"
      },
      "execution_count": 297,
      "outputs": [
        {
          "output_type": "execute_result",
          "data": {
            "text/plain": [
              "-0.9856199999999999"
            ]
          },
          "metadata": {},
          "execution_count": 297
        }
      ]
    },
    {
      "cell_type": "code",
      "source": [
        "S_2 = ((data - mean)**2).mean()"
      ],
      "metadata": {
        "id": "eD6B-nrJJerG"
      },
      "execution_count": 298,
      "outputs": []
    },
    {
      "cell_type": "code",
      "source": [
        "S_2"
      ],
      "metadata": {
        "colab": {
          "base_uri": "https://localhost:8080/"
        },
        "id": "DGfTzz9rJ5Cx",
        "outputId": "f6f89210-7428-40d0-a90b-341995fc201d"
      },
      "execution_count": 299,
      "outputs": [
        {
          "output_type": "execute_result",
          "data": {
            "text/plain": [
              "0.7997957555999998"
            ]
          },
          "metadata": {},
          "execution_count": 299
        }
      ]
    },
    {
      "cell_type": "markdown",
      "source": [
        "## a) для $α$, если $σ^2$ известно(0.7)"
      ],
      "metadata": {
        "id": "3NMIhWygKXC_"
      }
    },
    {
      "cell_type": "markdown",
      "source": [
        "$\\bar{x}$ ~ $N(α, \\frac{σ^2}{n})$\n",
        "\n",
        "$G(\\overrightarrow{x}, α)$ = $\\frac{\\bar{x} - α}{\\sqrt{\\frac{\\sigma^2}{n}}}$ ~ N(0, 1)\n",
        "\n",
        "$P(t_1 \\leq \\frac{\\bar{x} - α}{\\sqrt{\\frac{\\sigma^2}{n}}} \\leq t_2) = 1-𝛆$\n",
        "\n",
        "$Φ(t_1) = \\frac{𝛆}{2}$\n",
        "\n",
        "$Φ(t_2) = 1 - \\frac{𝛆}{2}$\n",
        "\n",
        "$P(\\bar{x} - \\frac{\\sigma t_2}{\\sqrt{n}} \\leq α \\leq \\bar{x} + \\frac{\\sigma t_2}{\\sqrt{n}}) = 1 - 𝛆$"
      ],
      "metadata": {
        "id": "tKoTOlV5X2uI"
      }
    },
    {
      "cell_type": "code",
      "source": [
        "def confidenceInterval(eps):\n",
        "  sigma = math.sqrt(0.7)\n",
        "  n = 50\n",
        "  t2 = norm.ppf(1 - eps / 2)\n",
        "\n",
        "  sigma_minus = mean - sigma*t2/math.sqrt(n)\n",
        "  sigma_plus = mean + sigma*t2/math.sqrt(n)\n",
        "  print(\"Доверительный интервал уровня \", 1 - eps)\n",
        "  print('(', sigma_minus , ',', sigma_plus, ')')"
      ],
      "metadata": {
        "id": "tX8DZojTSkVs"
      },
      "execution_count": 300,
      "outputs": []
    },
    {
      "cell_type": "code",
      "source": [
        "confidenceInterval(0.06)"
      ],
      "metadata": {
        "id": "3tTEeaZWJztW",
        "outputId": "5def2bc3-1c23-4be1-e76c-d951a8ac47b0",
        "colab": {
          "base_uri": "https://localhost:8080/"
        }
      },
      "execution_count": 301,
      "outputs": [
        {
          "output_type": "stream",
          "name": "stdout",
          "text": [
            "Доверительный интервал уровня  0.94\n",
            "( -1.208158500827332 , -0.763081499172668 )\n"
          ]
        }
      ]
    },
    {
      "cell_type": "markdown",
      "source": [
        "##б)для $α$, если $σ^2$ неизвестно"
      ],
      "metadata": {
        "id": "tbWjQFYRYS85"
      }
    },
    {
      "cell_type": "markdown",
      "source": [
        "$G(\\overrightarrow{x}, α)$ = $\\frac{(\\bar{x} - \\alpha)\\sqrt{n}}{S_0}$ ~ $T_{n-1}$\n",
        "\n",
        "$T_{n-1}(t_1) = \\frac{𝛆}{2}$\n",
        "\n",
        "$T_{n-1}(t_2) = 1 -\\frac{𝛆}{2}$\n",
        "\n",
        "$P(t_1 \\leq \\frac{(\\bar{x} - \\alpha)\\sqrt{n}}{S_0} \\leq t_2) = 1-𝛆$\n",
        "\n",
        "$P(\\bar{x} - \\frac{t2 S_0}{\\sqrt{n}} \\leq α \\leq \\bar{x} + \\frac{t2 S_0}{\\sqrt{n}})$"
      ],
      "metadata": {
        "id": "qazxuioVYdW4"
      }
    },
    {
      "cell_type": "code",
      "source": [
        "def confidenceInterval(eps):\n",
        "  n = 50\n",
        "  S0 = math.sqrt(n * S_2 / (n - 1))\n",
        "  t2 = t.ppf(1 - eps / 2, n - 1)  \n",
        "  sigma_minus = mean - t2*S0/math.sqrt(n)\n",
        "  sigma_plus = mean + t2*S0/math.sqrt(n)\n",
        "  print(\"Доверительный интервал уровня \", 1 - eps)\n",
        "  print('(', sigma_minus , ',', sigma_plus, ')')\n"
      ],
      "metadata": {
        "id": "jPtW_-ZSbR4q"
      },
      "execution_count": 302,
      "outputs": []
    },
    {
      "cell_type": "code",
      "source": [
        "confidenceInterval(0.06)"
      ],
      "metadata": {
        "id": "xCzwKhmgKl6_",
        "outputId": "b3ecd1a0-df73-4b0f-e1e2-9dc1b7284b4d",
        "colab": {
          "base_uri": "https://localhost:8080/"
        }
      },
      "execution_count": 303,
      "outputs": [
        {
          "output_type": "stream",
          "name": "stdout",
          "text": [
            "Доверительный интервал уровня  0.94\n",
            "( -1.2316005586514067 , -0.7396394413485933 )\n"
          ]
        }
      ]
    },
    {
      "cell_type": "markdown",
      "source": [
        "##в)для $\\sigma^2$, если $α$ известно(-1)"
      ],
      "metadata": {
        "id": "z9GC7u4KhoiR"
      }
    },
    {
      "cell_type": "markdown",
      "source": [
        "$\\frac{x_i - α}{σ}$ ~ N(0, 1)\n",
        "\n",
        "$\\sum_{i = 1}^{n}(\\frac{x_i - α}{σ})^2$ ~ $χ_{n}^2$\n",
        "\n",
        "$χ_{n}^2(t_1) = \\frac{𝛆}{2}$\n",
        "\n",
        "$χ_{n}^2(t_2) = 1 -\\frac{𝛆}{2}$\n",
        "\n",
        "$P(t_1 \\leq \\sum_{i = 1}^{n}(\\frac{x_i - α}{σ})^2 \\leq t_2) = 1- 𝛆$\n",
        "\n",
        "$P(\\frac{\\sum_{i = 1}^{n}(x_i - α)^2}{t_2} \\leq \\sigma^2 \\leq \\frac{\\sum_{i = 1}^{n}(x_i - α)^2}{t_1}) = 1 - 𝛆$"
      ],
      "metadata": {
        "id": "HMWMQ9Wxh2v_"
      }
    },
    {
      "cell_type": "code",
      "source": [
        "def confidenceInterval(eps):\n",
        "  n = 50\n",
        "  t1 = chi2.ppf(eps / 2, n)\n",
        "  t2 = chi2.ppf(1 - eps / 2, n)\n",
        "  a = -1\n",
        "\n",
        "  sum = 0.0\n",
        "  for num in data:\n",
        "    sum += math.pow(num - a, 2)\n",
        "\n",
        "  sigma_minus = sum / t2\n",
        "  sigma_plus = sum / t1\n",
        "  print(\"Доверительный интервал уровня \", 1 - eps)\n",
        "  print('(', sigma_minus , ',', sigma_plus, ')')"
      ],
      "metadata": {
        "id": "1nlNmimkK4EV"
      },
      "execution_count": 304,
      "outputs": []
    },
    {
      "cell_type": "code",
      "source": [
        "confidenceInterval(0.06)"
      ],
      "metadata": {
        "colab": {
          "base_uri": "https://localhost:8080/"
        },
        "id": "eGXH0fgPkhRV",
        "outputId": "166cc085-a455-48ad-8fb3-bce32f2ac605"
      },
      "execution_count": 305,
      "outputs": [
        {
          "output_type": "stream",
          "name": "stdout",
          "text": [
            "Доверительный интервал уровня  0.94\n",
            "( 0.5679981665368425 , 1.2139308146482426 )\n"
          ]
        }
      ]
    },
    {
      "cell_type": "markdown",
      "source": [
        "##г)для $\\sigma^2$, если $α$ неизвестно"
      ],
      "metadata": {
        "id": "1i6XvhxotzLs"
      }
    },
    {
      "cell_type": "markdown",
      "source": [
        "$G(\\overrightarrow{x}, \\sigma^2)$ = $\\frac{n S^2}{\\sigma^2}$ ~ $χ^2_{n - 1}$\n",
        "\n",
        "$P(t_1 \\leq \\frac{n S^2}{\\sigma^2} \\leq t_2) = 1 - 𝛆$\n",
        "\n",
        "$χ_{n - 1}^2(t_1) = \\frac{𝛆}{2}$\n",
        "\n",
        "$χ_{n - 1}^2(t_2) = 1 -\\frac{𝛆}{2}$\n",
        "\n",
        "$P(\\frac{n S^2}{t_2} \\leq \\sigma^2 \\leq \\frac{n S^2}{t_1}) = 1 - 𝛆$"
      ],
      "metadata": {
        "id": "7013Cl4ruDQw"
      }
    },
    {
      "cell_type": "code",
      "source": [
        "def confidenceInterval(eps):\n",
        "  n = 50\n",
        "  t1 = chi2.ppf(eps / 2, n - 1)\n",
        "  t2 = chi2.ppf(1 - eps / 2, n - 1)\n",
        "\n",
        "  sigma_minus = n * S_2 / t2\n",
        "  sigma_plus = n * S_2 / t1\n",
        "  print(\"Доверительный интервал уровня \", 1 - eps)\n",
        "  print('(', sigma_minus , ',', sigma_plus, ')')"
      ],
      "metadata": {
        "id": "QoThOgOvLtpA"
      },
      "execution_count": 306,
      "outputs": []
    },
    {
      "cell_type": "code",
      "source": [
        "confidenceInterval(0.06)"
      ],
      "metadata": {
        "colab": {
          "base_uri": "https://localhost:8080/"
        },
        "id": "Ru84t8exvCkR",
        "outputId": "5c1de324-b6fc-4f95-dd98-302434e7b4e8"
      },
      "execution_count": 307,
      "outputs": [
        {
          "output_type": "stream",
          "name": "stdout",
          "text": [
            "Доверительный интервал уровня  0.94\n",
            "( 0.5776104841353987 , 1.2442154564435666 )\n"
          ]
        }
      ]
    },
    {
      "cell_type": "markdown",
      "source": [
        "#Второе задание\n",
        "\n"
      ],
      "metadata": {
        "id": "3A4D9S2_7kut"
      }
    },
    {
      "cell_type": "code",
      "source": [
        "data1 = [-1.736, -0.550, -1.637, -1.896, -1.123, -1.649, -0.736, 0.372, -1.744, -0.723,\n",
        "-1.794, -1.130, -1.428, -1.757, -1.914, -1.333, -1.622, -1.127, -0.733, -0.235]\n",
        "\n",
        "data2 = [0.571, -0.285, -1.875, 1.439, -2.456, -0.315, 0.096, 0.067, -0.922, -0.494,\n",
        "-0.619, -0.730, -2.073, -2.271, -1.844, 0.498, -0.474, -0.211, -0.319, -0.595,\n",
        "-2.647, -1.198, -1.479, 0.336, -0.259, -0.160, -1.701, -2.505, -1.641, -0.720]"
      ],
      "metadata": {
        "id": "vUMUN_Zu8XFh"
      },
      "execution_count": 308,
      "outputs": []
    },
    {
      "cell_type": "markdown",
      "source": [
        "##a)о совпадении дисперсий\n"
      ],
      "metadata": {
        "id": "nUC9fzmy8RN0"
      }
    },
    {
      "cell_type": "code",
      "source": [
        "mean1 = np.array(data1).mean()\n",
        "mean2 = np.array(data2).mean()\n",
        "S1_2 = ((data1 - mean1)**2).mean()\n",
        "S2_2 = ((data2 - mean2)**2).mean()"
      ],
      "metadata": {
        "id": "TsOG6Fix8tRq"
      },
      "execution_count": 309,
      "outputs": []
    },
    {
      "cell_type": "markdown",
      "source": [
        "$\\frac{nS^2_1}{σ^2_1}$ ~ $ χ^2_{n-1}$\n",
        "\n",
        "$\\frac{mS^2_2}{σ^2_2}$ ~ $ χ^2_{m-1}$\n",
        "\n",
        "Эти случайные величины независимы, значит из них можно построить случайную величину, имеющую распределение Фишера\n",
        "\n",
        "$\\frac {1}{n-1} \\frac{nS^2_1}{σ^2_1} : \\frac {1}{m-1} \\frac{mS^2_2}{σ^2_2} = \\frac{n(m-1)\\sigma^2_2 S^2_1}{m(n-1)\\sigma^2_1 S^2_2}$ ~ $F_{n-1, m-1}$\n",
        "\n",
        "$\\eta = \\frac{n(m-1)\\ S^2_1}{m(n-1)\\ S^2_2}$ ~ $F_{n-1, m-1}$\n",
        "\n",
        "$P(q_1 < η < q_2) = 1 - 𝛆$\n",
        "\n",
        "$F_{n-1, m-1}(q_1) = \\frac{𝛆}{2}$\n",
        "\n",
        "$F_{n-1, m-1}(q_2) = 1 - \\frac{𝛆}{2}$"
      ],
      "metadata": {
        "id": "YQihQ_aE96A1"
      }
    },
    {
      "cell_type": "code",
      "source": [
        "n = 20\n",
        "m = 30\n",
        "epsilon = 0.06\n",
        "q1 = f.ppf(eps/2, n - 1, m - 1)\n",
        "q2 = f.ppf(1 - eps/2, n - 1, m - 1)\n",
        "eta = (n * (m - 1) * S1_2) / (m * (n - 1) * S2_2)\n",
        "\n",
        "if (q1 < eta < q2):\n",
        "  print(\"Гипотезу принимаем\")\n",
        "else:\n",
        "  print(\"Гипотезу не принимаем\")   "
      ],
      "metadata": {
        "colab": {
          "base_uri": "https://localhost:8080/"
        },
        "id": "dNyhY8bpCG2c",
        "outputId": "56041a2d-50b7-449f-f622-3c6845dd35ba"
      },
      "execution_count": 310,
      "outputs": [
        {
          "output_type": "stream",
          "name": "stdout",
          "text": [
            "Гипотезу принимаем\n"
          ]
        }
      ]
    },
    {
      "cell_type": "markdown",
      "source": [
        "##б)о совпадении средних, если известно, что дисперсии совпадают"
      ],
      "metadata": {
        "id": "spda2_jGI0EO"
      }
    },
    {
      "cell_type": "markdown",
      "source": [
        "$\\bar{X}$ ~ $N(α_1, \\frac{\\sigma^2}{n})$ \n",
        "\n",
        "$\\bar{Y}$ ~ $N(α_2, \\frac{\\sigma^2}{m})$\n",
        "\n",
        "$\\bar{X} - \\bar{Y}$ ~ $N(α_1 - α_2, \\sigma^2(\\frac{1}{n} + \\frac{1}{m}))$\n",
        "\n",
        "$\\frac{\\bar{X} - \\bar{Y} - (α1 - α2)}{\\sqrt{\\sigma^2(\\frac{1}{n} + \\frac{1}{m})}}$ ~ $N(0, 1)$\n",
        "\n",
        "$\\frac{nS^2_1}{σ^2}$ ~ $ χ^2_{n-1}$\n",
        "\n",
        "$\\frac{mS^2_2}{σ^2}$ ~ $ χ^2_{m-1}$\n",
        "\n",
        "$\\frac{nS^2_1}{σ^2} + \\frac{mS^2_2}{σ^2}$ ~ $χ^2_{n + m - 2}$\n",
        "\n",
        "$\\frac{\\bar{X} - \\bar{Y} - (α1 - α2)}{\\sqrt{\\sigma^2(\\frac{1}{n} + \\frac{1}{m})}}$ : $\\sqrt{\\frac{1}{n + m - 2} \\frac{nS^2_1 + mS^2_2}{σ^2}}$ ~ $T_{n + m - 2}$\n",
        "\n",
        "$ψ$ = $\\frac{\\bar{X} - \\bar{Y}}{\\sqrt{\\frac{1}{n} + \\frac{1}{m}} \\sqrt{\\frac{nS_1^2 + mS_2^2}{n + m - 2}}}$ ~ $T_{n + m - 2}$\n",
        "\n",
        "$P(-q < ψ < q) = T_{n + m - 2}(q) - T_{n + m - 2}(-q) = 1 - \\frac{𝛆}{2} - \\frac{𝛆}{2} = 1 - 𝛆$"
      ],
      "metadata": {
        "id": "pt8bQQdmJH6X"
      }
    },
    {
      "cell_type": "code",
      "source": [
        "eps = 0.06\n",
        "n = 20\n",
        "m = 30\n",
        "q = t.ppf(1 - eps / 2, n + m - 2)  \n",
        "psi = (mean1 - mean2) / ((math.sqrt(1/n + 1/m)) * (math.sqrt((n * S1_2 + m * S2_2) / (n + m - 2))))\n",
        "\n",
        "if (-q < psi < q):\n",
        "  print(\"Гипотезу принимаем\")\n",
        "else:\n",
        "  print(\"Гипотезу не принимаем\")  "
      ],
      "metadata": {
        "colab": {
          "base_uri": "https://localhost:8080/"
        },
        "id": "OvfZvpbKHJm9",
        "outputId": "1bfb09c7-628b-4534-b9ff-08bbc4c3e1bb"
      },
      "execution_count": 311,
      "outputs": [
        {
          "output_type": "stream",
          "name": "stdout",
          "text": [
            "Гипотезу принимаем\n"
          ]
        }
      ]
    },
    {
      "cell_type": "markdown",
      "source": [
        "#Третье задание\n",
        "\n",
        "\n"
      ],
      "metadata": {
        "id": "5HLJU7-9yEpb"
      }
    },
    {
      "cell_type": "code",
      "source": [
        "data = [0.096, 0.052, 0.312, 0.705, 0.850, 0.199, 0.042, 0.798, 0.832, 0.305,\n",
        "0.526, 0.910, 0.443, 0.531, 0.120, 0.325, 0.334, 0.072, 0.275, 0.420,\n",
        "0.775, 0.949, 0.185, 0.358, 0.303, 0.175, 0.298, 0.085, 0.874, 0.460]\n"
      ],
      "metadata": {
        "id": "m6orRL97yQ01"
      },
      "execution_count": 312,
      "outputs": []
    },
    {
      "cell_type": "code",
      "source": [
        "import numpy as np\n",
        "import matplotlib.pyplot as plt\n",
        "\n",
        "def Indecator(num, t):\n",
        "  return num <= t\n",
        "\n",
        "def EmpericFunc(t):\n",
        "  sum = 0\n",
        "  for num in data:\n",
        "    sum += Indecator(num, t) / len(data)\n",
        "\n",
        "  return sum   "
      ],
      "metadata": {
        "id": "OQMewJK9Txv5"
      },
      "execution_count": 313,
      "outputs": []
    },
    {
      "cell_type": "markdown",
      "source": [
        "##Эмперическая функция"
      ],
      "metadata": {
        "id": "IfrfVu6UUXfw"
      }
    },
    {
      "cell_type": "code",
      "source": [
        "y = lambda x: EmpericFunc(x)\n",
        "fig = plt.subplots()\n",
        "\n",
        "x = np.linspace(-0.1, 1.1,10000)\n",
        "#%matplotlib widget\n",
        "plt.plot(x, y(x))\n",
        "plt.show()"
      ],
      "metadata": {
        "colab": {
          "base_uri": "https://localhost:8080/",
          "height": 265
        },
        "id": "CICwsBh5T49e",
        "outputId": "26de2e56-1909-4697-aa2e-7e1dc1f8b2e1"
      },
      "execution_count": 314,
      "outputs": [
        {
          "output_type": "display_data",
          "data": {
            "text/plain": [
              "<Figure size 432x288 with 1 Axes>"
            ],
            "image/png": "[encoded data removed]"
          },
          "metadata": {
            "needs_background": "light"
          }
        }
      ]
    },
    {
      "cell_type": "markdown",
      "source": [
        "##Гистограмма)"
      ],
      "metadata": {
        "id": "LG7No7YEUaY-"
      }
    },
    {
      "cell_type": "code",
      "source": [
        " \n",
        "plt.hist(data, range = (0, 1), color = 'blue', edgecolor = 'black', bins = int(math.log2(30) + 1), density = 1)"
      ],
      "metadata": {
        "colab": {
          "base_uri": "https://localhost:8080/",
          "height": 317
        },
        "id": "7Sl57CUxzgWw",
        "outputId": "1eb29c93-f6c1-48aa-fece-17fc40c5a1c4"
      },
      "execution_count": 315,
      "outputs": [
        {
          "output_type": "execute_result",
          "data": {
            "text/plain": [
              "(array([1.5       , 1.33333333, 0.83333333, 0.5       , 0.83333333]),\n",
              " array([0. , 0.2, 0.4, 0.6, 0.8, 1. ]),\n",
              " <BarContainer object of 5 artists>)"
            ]
          },
          "metadata": {},
          "execution_count": 315
        },
        {
          "output_type": "display_data",
          "data": {
            "text/plain": [
              "<Figure size 432x288 with 1 Axes>"
            ],
            "image/png": "[encoded data removed]"
          },
          "metadata": {
            "needs_background": "light"
          }
        }
      ]
    },
    {
      "cell_type": "markdown",
      "source": [
        "#Четвертое задание\n"
      ],
      "metadata": {
        "id": "4lZQSRlmXw3X"
      }
    },
    {
      "cell_type": "markdown",
      "source": [
        "##Критерий Колмогорова"
      ],
      "metadata": {
        "id": "QuFd_393UfEE"
      }
    },
    {
      "cell_type": "markdown",
      "source": [
        "$D_n = sup|F_n^*(x) - F(x)|$"
      ],
      "metadata": {
        "id": "mO-Px6riVYsZ"
      }
    },
    {
      "cell_type": "code",
      "source": [
        "z = lambda x: x\n",
        "\n",
        "plt.plot(x, y(x))\n",
        "plt.plot(x, z(x))\n",
        "plt.show()"
      ],
      "metadata": {
        "colab": {
          "base_uri": "https://localhost:8080/",
          "height": 265
        },
        "id": "-azkYgA9U0ef",
        "outputId": "1f1dc947-4052-4283-d364-0fd48c6efcb2"
      },
      "execution_count": 316,
      "outputs": [
        {
          "output_type": "display_data",
          "data": {
            "text/plain": [
              "<Figure size 432x288 with 1 Axes>"
            ],
            "image/png": "[encoded data removed]"
          },
          "metadata": {
            "needs_background": "light"
          }
        }
      ]
    },
    {
      "cell_type": "code",
      "source": [
        "point = 0\n",
        "d = 0\n",
        "\n",
        "for i in x:\n",
        "  if (abs(y(i) - z(i)) > d):\n",
        "    d = abs(y(i) - z(i))\n",
        "    point = i  \n",
        "\n",
        "print(\"D_n = \", d)\n",
        "print(\"достигается в точке {:.3f}\".format(point)) "
      ],
      "metadata": {
        "colab": {
          "base_uri": "https://localhost:8080/"
        },
        "id": "k74TpCEjVxyz",
        "outputId": "fc346296-d07d-4e3c-d58e-e27c6ba3dfd9"
      },
      "execution_count": 317,
      "outputs": [
        {
          "output_type": "stream",
          "name": "stdout",
          "text": [
            "D_n =  0.2085808580858085\n",
            "достигается в точке 0.358\n"
          ]
        }
      ]
    },
    {
      "cell_type": "markdown",
      "source": [
        "$P(\\sqrt{n} D_n < q) ≃ 𝒦(q) = 1 - 𝛆$"
      ],
      "metadata": {
        "id": "2Y6tQQPXYqju"
      }
    },
    {
      "cell_type": "code",
      "source": [
        "eps = 0.02\n",
        "q = kstwobign.ppf(1 - eps) \n",
        "n = 30\n",
        "\n",
        "if (math.sqrt(n) * d < q):\n",
        "  print(\"Гипотезу принимаем\")\n",
        "else:\n",
        "  print(\"Гипотезу не принимаем\")    "
      ],
      "metadata": {
        "colab": {
          "base_uri": "https://localhost:8080/"
        },
        "id": "hWfJcPRJYMwB",
        "outputId": "2881cd58-232d-4024-efb1-303c4a21f30a"
      },
      "execution_count": 318,
      "outputs": [
        {
          "output_type": "stream",
          "name": "stdout",
          "text": [
            "Гипотезу принимаем\n"
          ]
        }
      ]
    },
    {
      "cell_type": "markdown",
      "source": [
        "##Критерий хи-квадрат\n"
      ],
      "metadata": {
        "id": "k-F1gMceeNwO"
      }
    },
    {
      "cell_type": "markdown",
      "source": [
        "$𝛹_n = \\sum_{i = 1}^{k} \\frac{(ν_i - np_i)^2}{np_i}$\n",
        "\n",
        "$P(𝛹_n < y) → χ^2_{k-1}(y),  n → ∞$"
      ],
      "metadata": {
        "id": "rlzH6kYB1ZgK"
      }
    },
    {
      "cell_type": "markdown",
      "source": [
        "![image.png](data:image/png;base64,iVBORw0KGgoAAAANSUhEUgAAAhMAAACuCAYAAACMaI+mAAAgAElEQVR4nO3dUWgbWZ4u8K8uWUjDPGRgF0pgQ1figZumDdNmL1himmEEeZg09yElZEiJfsh4ZmHG3oF1PAvbVvwgS/Nwx8lCT7wLe9vTMEOVIUYKbNOZh9BagxuVYS5yQ4ZkoU2qWQtUsAMJ9IA90wPnPlRJKklVpZLktG3p+0EgluqUjo6qzvnXOafqSDs7OwJEREREA5KO//RnsWdW8N3vfve080Ieh7UaJicmTjsb5wbLi2g4PIdoEI3j5n+cdkaIiIjofGMwQURERENhMEFERERDYTBBREREQ/EPJmoGUpIESZJQ2Ot+TZozYIfttY9t7a2Us13n58GGMZeCUev7O9GIMddax4e0Zp52dojOBG/dmdoKq2VNFDx1bM/6m8aCudbruLFhzElt7XNY/RvSM5FHRQiszLo7XcoARh1C1KEjg4XATPSx7V4BMW0GFSEghIAw88jGGwGEDO1eCsUlHvjjzN5KIbGabx4jFSR6nABEY6BmYEED9EMBcagD2kLAhZcNYy6BqlF36li3To4xKB9r5pqExGqvrSxY26pzjDXa6DvxwK2jDXPUyihuq0i9LQOQoS3lUXpY9m/k+9l2dgVCrKCZvdkk8ijBapwUExqWpzPY3PNLTKPPRvlhCaox3zxG4rd0IOh4IhoT9m4RpXQKyQk49WSuhOKu31khQ3sgULwpN/9O3lCBJxbPobHk9FIlnuSRT/fYtGahihkoEe8WjhhMWCh17nTbggWg0RXSGg4J27Z/ypSK7GNG0eQxxPFENAqsgxIwrUD2vFY64FlBvSVNAfFgHkqvDWsWSmml93au6BMwvTudUKA233AiX2c4pNe24eytdWSRR9KzL/ntFNTVMhhOjCMZyjRQ0jabv7/5YQYlVFu9V0RjSp1qVfPKVNRa1sSmVoJ6I9kWiNC4iCM+23srALCtKrCdQaw5Z6IQ2g6fnbs59gqIaSXkTc+wRxMbj3EVv1OHns4i4R7Q5Sk9cnBKRF7O/IlsWsfGTYYSFM46KAFpHfXGfLVcFomQybvRgwlv13LNQumktgWAvQKkeBZ5s6OHAwAmFMxEziSNHqfnqzEBaEXxGUYjGkPeYQ3roFcta8OYiyEDHfUHGnslqKf4HQHhOVbit3So20WUAy7sowUTfkMVQWMp/WwLuIFEFfqhTyABuJNAiBy2VQ0/nojGgN+whnfYo50bSExX2hoHov4FX8hFDCaSSKWzWN+yAdgw7mWDx9z62bZmIBXPIm8WoYVeafJKdFzZW6nWvc01AwtaCfklVog03py5ZOvO7aA1A+urjTvouplrbo9EyG19RO2cGytat+E7j3wo5ZI+0xAcEYc5ZGj3dECLQZKcA7M15tZxN0fotu2Ng71bRAlANt7+YAzvcwTs3WLoF6DRJt/cgP4k4Rwbk87zS3x7sIjGyYSGDQPITDbOiw3PBZm3TjZRXkXHRLrek+loHHmPGxnagzpSD2Pu8dI7IPVfgrxmIDVpYVn4TYb0sVdAASuvoJJ3uuespYAhkBHG5YD7w/Ii8higTuY5RMMcNydyN4f5GG23c56YWhlF6Jgfs0CCiGgYr6xOppE2zHETEkw4t+MVIjx9Mn4nYg9GX2wYS0Wk7nF8nIioH6+mTqZRN8xxc8H31QkNRaENnqMTIUN7UDzlPBAREVEvZ+ehVURERHQuSTs7OwIALl+5ctp5ISIionPI/24OOnWcWd0flhfRcHgO0SBO9G4OIiIiGl8MJoiIiGgoDCaIiIhoKAHBhImC+9jVKM+ZICIiovEV0jOhBq/keWbZMJYKMF+edj7oJNlbqdaaAnMG7N5JiEae97zwrmfUrXVxOLbnUM1AKvL3by+vzgvq8PooLK2z9kXgb7ZXCFk7JTzt4HkKStv+ea1/KWdxOR8RhzmOsf/LDN6ISZCky0j8YAP7fwza9iXMX0Td1svCo398B5clCVLsDbzzj49gRUn1m5Sn4GVoP1VwX72L/WhfjM66vQJi2gwqQkCIOnRkEFvjEkU05moGFjRAPxQQhzqgLQRU8jaMuQSqRh1ibM8hZ8VLGPXm918IDL6c8srmKk55Heqoxj0N6F4BsUa5C4HKtLcsw9M2V28VAkJUMKPFWg17cwVtZ791o4qEJygITTtEnoLTytAeCPeYcd/LAcgtB6/wffynP4udnR3RriLyUIV+6Px1VF4R8mxeVF4IIcQLUcnFhfxPn4gj0a16Ly7e+tnHov6VEOKrF+KTXFzIf/+xeOGzrdfzX10X8ru6eP6VEOKr50J/VxbXf/U8PJGlC1WWhYy8qHj39W/Xe6c94/7r8PC0s3Am1A1VIK2LesDfDSwvGied50ElB6EanWdFtLQNI3sOHepC9bRnwsz7fv/Wtu3tiVdoOYembW9TO9UNVSAX+KmhaQfPUx/HjZkXCNhP47iJ1DOx/2kBiZ9oiF8CgEuIv7uIxIcmnvlEdfXD1zA/dx3yBQAXLiF57R3Y9kscA8AXBlKxRTzqGoawYf72Eeb/ToNyAcAFBdrfzePRf+yHdEdZMFY3MfN+HomOd5TvqcD7JfZOjABZmQG2LbeXykb5YQnqjSTXa6GxZh2UgGml7TwoHUTpyx1DNQslzEDxXlE365R29m4RpbQCxXdHznLuM4p/7ROadq+MbGceWimdem3K/1PD0w6Rpx5pvfkz7mWhGvOh63ZECCZs1D8Hriqe7FwAYMMJENrIuH7vEyz8besV60kF8fhV56B//TryD28jeakzXR3Wroo3vIV14TXguPsTmvvdymLz6jpux1/rfnNqBkk8QvWg97ejM252BeJQwbokQZKc5eiLNxlKEHkbH2VKjZjKxKY2hgG5t0GdUBBaWtMKrLWgOQYqFITMvwhLm1aAkHkuM4rlmdvQMWciNO0QeeqVFgD2NpHZzmO5R70bqWfi+Bh4zX9JsPB0ewVkfpXA3R+95b5yCVdnFVzs3hKwEbTsWLdaCdn/+wbW/+Etn30BQAyxb5Vh/6H/PNPZYm+lIE1aWHbH7ZKPJUhjNd5LdFLc8fO0jg0G5MFWEyhfc+cKmHlkvXMMUELmHrARNP8kLO12BuvYaM5dgHfeA4BsvIxkc35Ctm3ORHjaIfLUKy0A83EWyCV7riYaKZi4eBE4+kuULVuOP7uL1I8sLG+tIP6Nnp8AyAAifYaN0nsbeOPnt/GWfyQBQIbyP4GqNXZzlkeM2/3n6V6L39Khrq4HzigmGhfeYQ3roNRjaxvGnDuJ74E2Xr0SQPuwRs1CaGmldcw37mKcnYeeLqG422pL8kuN8pOhLeWB1XKrFyE0refqfkLDcg7IPm413F313HYR5WY9F5528Dz1SAsb1hMgf633wuQRggkZylUZzyzPCNPxEV7KCOgVAPCFgfl0FZmPPoD6eu9PAGK4eq2Ep54G4vjLF04U0+n/bWLhN2Vk46853TKTGZSQRaKt+8aG9Z9RxoKIiM4fv2GNwDH3RiAxXYEYx0DCb1gjYB6BrMz47sJpSxQoaZ833X2Fpg0YWnF+MxnKtG9KZ55EaNoh8tQjLQCgVkZxWw2Yr9Fh0Ls53spV3Ls5jsRzs+rcvSGEEJYutClN6JbPtM+juqiWn7p3drwQT83nzbs8/O7maM0ybd+2je9s1apY/3ZSfPC5X4LzYWRnVvepbqhts4grOYzXTHQiP947FDrvVugQdM50Gt1zqC70dOOuBe///VREHhB50/2z4y6G9jthOvcVlrZjW787TDrruebdHeFpB89Tr7Qi/M4XV+O4iRRMCHEkqu/Pi/gUBKCI+I8/EE+/bLxXFXlZEeu/8xQCuv/lTdHe8NeLQpPnRbGZy+fi459dF1dlCMhXxfXcJ63goWtbD79g4lAX6rfXRTWkAM660T2x+9d2TAUc2CwvGjdOoO2cF+2No9MoOA2I05h018ndt/mN9Dl0qAs1oA7pvi3TW2bdQZq33Ltv5wxL6/wubW2il5kPqefC0w6ep/C0QbcRezWOm4AlyE0UpHUoh8XgB1QM4rO7mHnvEoqP5gNuVTkZ1ofvYBH38fGtV/kprxaXA+4Py4vIY6+AAlb6eoLx+J5DJgprwMqd3vMCqFuEJchLyEye7Noc+7vPkFrNvNJAAl8YyH6k4v45DiSIiIZhPgaS52ophFO0VwYiTDCkcAE9E+eVDeOnm1ByK+4Dts6v8b1KGAzLi2g4PIdoEI3jZoCnR5xlMrT3V047E0RERGMl4kJfRERERP6knZ0dAQCXr1w57bwQERHROTRicyZGB8cv+8PyIhoOzyEaRIS7OYiIiIh6YzBBREREQ2EwQUREREMJCCbM5rrqJ/nQKiIiIho9IT0TKvRD0dfjWE/F3l0sblm9t6NzyoYx5wS2zX9rZu9kRCPO3ko1z4nUlh2yZeviUJIkSHMGwrYeSTUDqX6//17Bd1tvuXe/317W7Rfj7XVZ12+2V/DUcwW013LhaQfPU1Ban3pXkiBJKRg1+Io4zHGM/V9m8EZMgiRdRuIHG9j/Y4RUn2YxE/Lhx59tIDMdgyRJuBz/ITY+Ow7d38vfG1ieS+Cyd5+zC8gc/BCLH72M9lXonLFgbTuBrRDuPz5Dn8ZdzcCCBue8ONQBbSGgnrVhzCVQNeru+VOHjgxiYxWQ2zCWMoBRb37/hdDgC07DHs/6vh5rlLsQqEx7y9Ip62yu4pT1oY5qvNVWmWsxZKCjLgSEqGBGi7Ua9pqBVDyLvOnst25UkfAEBaFph8hTcFoZ2gNPnSsEKjkAueXg9boGXYJc/qdP3CXIA3xZESuzspCDlsY9+kSsyHGR33UXJN/Ni7i8Ij4J2OmRmRfx2QWh77/o/twvPxG3p4LTnkcjvYJfP3yXmO/G8qJx0rmaYyUXtqx2eNqGkT2H/Jb7DlkJ01mlWBX5XHc5hZZzaF3VuRJ3u+6VS6OnHTxPfRw3HUuXezWOm0g9E/ufFpD4ieaud3EJ8XcXkfjQxLPAFMcw/zkLa+kuFr0vf2EgFVvEo5cAPjNRiC9C+46ziMal72hYjG/C/L3f/izouQrmf3Mf2rcv4WLn299I4Hp6E6XH7J0YOTULpbTyaheHIzpnrIMSMK1A9rxWOuBwr6+ahRJmoHivqLctBJbWtQqEKGJ+qvMNE+VVYEaR/VLB3i0G11V7ZWQ789BKifLDEtSpgFouNO0QeeqR1ps/414WqjGPsD7hCMGEjfrnwFXFk50LAGwgaFDieO8usp8v4G664yu8fh35h7eRvATYh0+BN71f8jXggg38xWeHX5h49KUC+9/ewWVJgvStd7D8kfdQuIiZeAobu9XAPNH5ZFtVYDuDWOBYItF48jY+ypQaMZWJTa0E9UYSvZqQkeJtUCcUhJVWfDasyVShIGT+xbQCay1gfkJaAULmucwolmduQ0c9F5p2iDz1SgsAe5vIbOexfDP8iInUM3F8DLwWdUmw433cfe8pFn6u+hysl3B1VnF6Fv5yDPxVxH3aFkqfVnH0vU08FwLicQb1v1vE5oFnz38TA76wwb6J0WIdlIB0Y6xQoJLLto0lElFU7vh5WsdGj4aBgpSQuQdsBM0/WU2gfM2dZ2DmkfXOT9jOYB0bzbkL8M57AJCNl5EMqudC0w6Rp15pAZiPs0AuGdorAUQMJi5eBI78egy6HGP/n5fx9Ed5qL2eynrhIvBVlH260otY/L57AryuYfFHj1De9zQpsgI1rOuKzqX4HQHxQGsGpvFbOtTtIsoBk3qJxoV3WMM6KPXY2oYx507i85xPY8PbNtQs9CqtMPmlRvnJ0JbywGq51YuQ1jHfuANydh56uoTibqOd8lzdT2hYzgHZx62G2zuM0F3PhacdPE890sKG9QTIX+s96T1CMCFDuSrjmeVppo+P8FJG99wF+xHW3yvD0C67XSoJZFFCZrK7S0dW3oD8e2/jf4SjlzJ8F0X/axnJz+uoh2XT5tj6+AgaPyQaD37DGoFj7o1AYrrSFpiPDb9hjYHaCgVK2udld1+yMuObakaRA4dWnN9MhjLtm9Kp50LTDpGnHmkBALUyittqtPp20Ls53spV3LsqjsRzsyrqX/nOFW2fhXpUF9XyU/FCCP+7Ob6dFxX3jowjqyKqzUmmdaGnZaH9+rnzmZYuNPm6+ODz1ie9+PcFgZ/1uMPkHBnZmdV9qQs97Z1t7PztN+uZ5UVjxXuHQufdCh0qOYTevdAwuueQtx7prFNCUvnc9dL+Wue+KiIPiLzp/tl2B0THtn53mHjulqjkvPVceNrB89Qrreh554sQreMmUjAhxJGovj8v4lMQgCLiP/5APP2y8V5V5GVFrP/O72M69tNxm8rR/n0xP6sIAEKZXRAfPGuFAtWfy0L5P9XWrl5Uxf2bV4UMCPlNTay7QUjzk3KyWPj39tfOs9E9sfvlBhBw/wUc2CwvGjd1Q22eF+2No3POOA2I05ig61/3bX4jfQ4d6kINqEOCbssMuoXWW+7d6bzl3RngtddlzQa+wcyH1HPhaQfPU3jaoDLwahw3AUuQmyhI61AOi8EPqBjEZ3cx894lFB/Nn+xwxHEZ2ekykk/ySHaNvZxPXA64PywvIo+9AgpY6esJxuN7DpkorAErfBjeQCIsQe7MdTjJtTn2d58htZo54XkNxzB/UcDxv2RHJpAgIhqG+RhInvWlEM6KvTIQYYIhhQvomTg/jj+9i+VDFfdvjtbUy/G9ShgMy4toODyHaBCN4ybq0yPOrIvfuY37p50JIiKiMRZxoS8iIiIif9LOzo4AgMtXrpx2XoiIiOgcOvdzJkYVxy/7w/IiGg7PIRpEhLs5iIiIiHpjMEFERERDYTBBREREQwkIJszmuuon+dAqIiIiGj0hPRMq9EPR1+NYT8XeXSxuceHx0WXDmJPcVWglSGtm7yREY8DeSjXPi85Vmdu1Lg4lSYI0ZyBsaxoP5lqv46aj7u1R/0Yc5jjG/i8zeCMmQZIuI/GDDez/MWz7l3i2tYxU/HLogXv82QYy0zFIkoTL8R9i47Pj4Bx8toEfxp2lzS9fX4bxn+62swvIHPwQix+9jPZV6Fwx19ylk4WAEBXkVxM9TgCiMVAzsKAB+qGAONQBbQFGzW9DG8ZcAlWj7p5DdejIIMagfKyZaxISq722smBtO50KzrEjIELWL4kUTBz/Rx7XjTew+UxAiCruKjqu/7wM/6b/GObadcybM8h+9BTigQbZd7My8t/X8ca/PoMQAtVfKNC/n0fZb6futsovqs62730T97/X2PYi4v+wgotL6/5p6VyL3/EewHEkc0DpgD1RNN7s3SJK6RSSEwAmNCznSiju+gXZMrQHAsWbcvPv5A0VeGKxd2IsOb1UiSd55NM9Nq1ZqGIGSsS7hSMFE/ufFpD4iYb4JQC4hPi7i0h8aOKZ38YHOvLmPPT3Nbz11x0rb31hIBVbxKOXAD4zUYgvQvvOJQDApe9oWIxvwvy9zz7/YOOZ/Q6SzW2TeMd+BvsP7vvfSOB6ehOlx+ydGG0myqtAnovy0JizDkrAtNJ2ocYgm6JImgLiQYSVu2sWSmkl8sKcEYIJG/XPgauKZ5cXANjw7ZmwzEd4MWVj43prSOLRF+6br19H/uFtJC8B9uFT4E1vRl8DLtjAX3x2+tdXMTP7McqfOsHCy0/L+Hg2gavNiOkiZuIpbOxWA3pL6Lwz1yRIUgLZtI75sz6Ph+hroE61ak9lSo2YysSmVoJ6I+nfY0wjLo54xPrTtqrAdgax5pyJAsIGx6INcxwDr0VcEsz+ogTzd0dI/uo5hBD45GYd8z/ZhBMzX8LVWQUXAeAvx8BfRdsnLr6F279Mofz2NyFJEr75o6dY/PA23vJsculvYsAXNtg3MZrid5wxu8p0BjFOICMagDN/IpvWsXGToQSFsw5KQFpH3Z0vUcllkQipeyMFExcvAkd+PQYB1J8u4rp7rCrvLmL+t2Xsd+bgwkXgq4g7rJUwf7OK+c+PIITA0Ufv4OP/vYhHf/BsIytQty2wo2+0xW/pULeLKPtONiMaH95hDeug1GNrG8ZcDBnoqAfNYyPyiN8RbXMee9W9EYIJGcpVGc8sTzN9fISXMnDRb2s5CatW771X5Q3Iv/c2/kc4einDb1F02yzCSM9Dm3I+8eLUdaS+t4FHv/MMatj9je/QOVWzUOpjUhDRKPIb1vAOe7RzA4npSvCEeKJIguveSD0TV2fnUfkXA+ZLAHgJc2sTL36SxFUAwDGsvX3Ybs+F8v15KPfWYRw4Db31m/vY/H4Sb8kAjm3s/8czZyjizTjmzfswmvMgDGz+9yKSbzr7Of7CbPZmyFcTiH9YQsn9+/jgEYofxXF1shXOvPzvOvC6jEsRi4TOB3PNe2+zDeNeFsglwSmYNM7kt1NQV9ed20FrBtZXVaTe9g8TzDW3RyLktj6ids4zJlq34dswljIohdS90YY5vpfFI83C7f8lQZJmcLs+D/0f4m7PxDMYN1LQP3M3ntCw+VECH99QIEkxvPPbGZR+7c4c/UMZ+WTJuQvkYhLZ32Zg/WwGkiRh5md1zG/dRtyND55tqUj9Zt/5480F6L+OoXjNeSaFcuNjzGw/wsKbrTw++6yIhbdnfHtL6PyK36lDf5JwJwCxUiQCAExo2DCAzKQEaTIDGBvQmleMTkPgPL3YuQOqfSJd78l0NI68x40M7UEdqYexyHVvwBLkJgrSOpTDoucAPQGf3cXMe5dQfBThtpR+HJeRnS4j+SSP5IhEE1wOuD8sLyKPvQIKWOnrCcY8h2iY4yakZ6KEzOTJrs2xv/sMqdXMCc9rOIb5iwKO/yU7MoEEEdEwzMdAkrdQU5+GOW4CeibOj+NP72L5UMX9m6M19ZJXCf1heRENh+cQDaJx3ER8esTZdfE7t3H/tDNBREQ0xiIu9EVERETkT9rZ2REAcPnKldPOCxEREZ1D537OxKji+GV/WF5Ew+E5RIOIcDcHERERUW8MJoiIiGgoDCaIiIhoKAHBhImC+9jVk3xoVVTmmvvIVy41TUREdOaF9Eyo0A9FX4/VPCnxOwLCzH/9H0xnkPO8eMm7rsAaVxUgsrdSzXOitSCTn9bF4dhepNUMpPr9/nsF32295d79fntZt1+Mt9dlXb/ZXiFk7ZTwtIPnKSitT70rSZCklLO4nI+IwxzH2P9lBm/EJEjSZSR+sIH9P4Zt+0MkvuVs+84/GngWsO3xSwv7Dzex/IMEfhh6MtD4smBtO4GtEO4/LvRF465mYEGDc14c6oC2EFDJ2zDmEqgadff8qUNHBrGxCsidFS9h1Jvff6FXe7NXgBTP+r4ea5S7EKhMe8vSKetsruKU9aGOarzV+DZXbxUCQlQwo8VaDXvNQCqeRd509ls3qkh4goLQtEPkKTitDO2Bp84VApUcgNxy8Hpdx3/6s9jZ2RHtKiIPVeiHzl9H5RUhz+ZF5YUQQrwQlVxcyP/0iTgS3SJve6iL+dl5cftXRXH/RxCqUW9/38wLpHVR70w3Jv7r8PC0s3A2HOpCRV5UemzG8qJxUjfUtvqxkvOpQyOmbRjZc+hQF6qnPevVtlRyEIAq8rnucgot59C6qr1N7VQ3VIFcUC0XnnbwPPVx3Jh5gYD9NI6bSD0T+58WkPiJhvglALiE+LuLSHxoOkuJd3hpP4N9Pdna9to7sA9svASALwykYot49BLAhIYPzA+wfkvFzGSUXNBYqlkopZUTXhyO6HyzDkrAtALZ81rpwDq1/JxpNQslzEDxXlFvWwgsrWsVCFHE/FTnG85y7jOK7JcK9m4xuK7aKyPbmYdWSpQflqBOBdRyoWmHyFOPtN78GfeyUI15hPUJRwgmbNQ/B64qnuxcAGADxz5bX/rWDOKPyjBfAsBLmI8/Rjx+1TnoX7+O/MPbSF7q/alEAGBbVWA7g1jgWCLRePI2PsqUGjGViU2tBPVGEr2akJHibVAnFISVVnw2rMlUoSBk/sW0AmstYH5CWgFC5rnMKJZnbkNHPReadog89UoLAHubyGznsXwz/IiJ1DNxfAy8FnFJsIt/exsbahmJb0qQpG9i/vNFbP79W+67l3B1VgFXCqeorIMSkG6MFQpUctm2sUQiisodP0/r2OjRMFCQEjL3gI2g+SerCZSvufMMzDyy3vkJ2xmsY6M5dwHeeQ8AsvEykkH1XGjaIfLUKy0A83EWyCVDeyWAiMHExYvA0V+ibAnY2/NIPZnH8yMBIY7w8bWP8c5PHznDHER9it8REA+05lVU/JYOdbuIcsCMYqJx4R3WsA5KPba2Ycy5k/g859PY8A5r1Cz0Kq0w+aVG+cnQlvLAarnVi5DWMd+4A3J2Hnq6hOJuIyTwXN1PaFjOAdnHrYbbO4zQXc+Fpx08Tz3Swob1BMhf6z3pPUIwIUO5KuOZ5RlhOj7CSxk+PQw2Kh8Z0G5pUC4CwEUo308h+a+PUAm8+4OoX0Hjh0TjwW9YI3DMvRFITFfaAvOx4TesMdA8LAVK2udld1+yMuObakaRA4dWnN9MhjLtm9Kp50LTDpGnHmkBALUyittqtPp20Ls53spV3Ds0jsRzsyrqXznbPn0/LuQfF92/j8TzX2tCnr0vngohxFFdVMtPxYsoM0p5N8dpZ+EMqAs97T02nL/9Zj2zvGiseO9Q6LxboUMlh0h16eieQ956pLNOCUnlc9dL+2ud+6qIPCDypvtn2x0QHdv63WHiuVuikvPWc+FpB89Tr7QiUjvcOG4iBRNCHInq+/MiPgUBKCL+4w/E0y8b71VFXlbE+u8afz8Xn+Q0cVWGAGRx9ea6qPy38BRC9+0lDCa6je6J3S83gID7L+CYYHnRuKkbavO8aK8/nXPGaUCcxgRd/7rr4ZE+hw51oQbUIUG3ZQbdQust9+503vLuDPDa67JmA99g5kPqufC0g+cpPG1QGXg1jpuAJchNFKR1KIfF4AdUDOKzu5h57xKKj+Z7dzHtFSDdU8ZzfA9cDrhfLM1BgkQAAA2TSURBVC8ij70CCljp6wnG43sOmSisASt8GN5AIixBXkJm8mTX5tjffYbUaqZnIGGuSf5PHyMiop7Mx0DyFJZCOJf2ykCECYYULqBngk7b+F4lDIblRTQcnkM0iAg9E0RERES9MZggIiKioUg7OzsCAC5fuXLaeSEiIqJziHMmziiOX/aH5UU0HJ5DNAjOmSAiIqITwWCCiIiIhsJggoiIiIbCYIKIiIiGwmCCiIiIhsJggoiIiIbCYIKIiIiGwmCCiIiIhsJggoiIiIbCYIKIiIiGwmCCiIiIhsJggoiIiIbCYIKIiIiGwmCCiIiIhsJggoiIiIbCYIKIiIiGwmCCiIiIhsJggoiIiIbCYIKIiIiGIu3s7AgAuHzlymnnhYiIiM4h6fhPfxZ7ZgXf/e53Tzsv5HFYq2FyYuK0s3FusLyIhsNziAbROG44zEFERERDYTBBREREQ2EwQURERENhMEFERERDYTAxNkwUJAmS+y+1Zbe9a2+lAt8jogHUDKQ851zz35oZKbm5Fn3br8NZyw+dLQwmxoINYy6BqlGHEALiUAe0GAp77ts1AwsaoB823luAUTvVDBONCNU5r0TjXwX51cT5C9j3CkisnnYm6CxjMDEWZGgPBIo3ZefPiSRSaaBqORWavVtEKZ1CcgLAhIblXAnF3XNW2RGdC3HMGypKD8vodYbF7wiIO/GvJVfhbBj3qlDTp50POssYTJwXNQMpKYXCWsqnu9SGMefTnSpJrd6Htn2VUdxWkXrbCS6sgxIwrUD2bFI6sF71NyKiznPXM4wQeVhhrwBJKqCw5jeM2T682fqXitz7aG8toHhjA8vT/X87Gh8MJs6VErJYbg5VqKsJN1hweh5aXamtfyuz3vRuxTWZQSm3DM3zfBp1Smn+X5lSv6bvQzRuTGxqJag3kpDhNNSZ6Yp7vtahP0n4XwD0lEV1yh3GNPMoNYcq41jxqReEKLad/+H5ncHyTbn3pjTWGEycKyr0W26354SCmb7TN4IOp9LiZCqiV62EzKS3RyCBbK7SGnIEgNV1t+F3zs/2C4Co8q0Gf0LBSV0OmGsJwFzBWRhsobONwcRI6HOYAzK0pTywWkYjnPAOa1gHpa8j00RjoHMCZvs8CPlmEXUDnoAj+vBDNEMMc9QMrD/RMT9QcEPjhsHESIg6zNFiW1UgrUCB/7CGd9iDiF4d+Waxeb5WciVkloyekzOjG3yYw94torSdQcwNQBKrAFYTkOZOMn80KhhMjAWn58I7Kcs7biu/nYLa6GqtGVhfbU3OJKJXp3OSpTKldk2GPi3eIMcJdADkKhAPtDORPzpbLpx2BujrIEN7UIElxSBp7ku5CkRzjFXDhlFEbFJCBoBq1CNOziKiYcTv1KHPxSBJjVfyqAjOUKDzh0uQn1FcDrg/LC+i4fAcokFwCXIiIiI6EQwmiIjOMHPN/04tSZI4GZLODM6ZICI6w5zHap92LojCsWeCiIiIhiLt7OwIALh85cpp54WIiIjOId7NcUZxZnV/WF5Ew+E5RIPg3RxERER0IhhMEBER0VAYTBAREdFQGEwQERHRUBhMnCvtS423Fu4iGh3mmoTCHuAc7wWYvRLQq1MzkIq8bLl3ufOQ361mIBWyr87FzzqXUe+u99rfd46djv013m/bb3t92v5e9/udnxu83/HEYOIcMddiyEBHXQgIUcGMFus6cYjOu/idChCXIEkxFG/Mg8tenRYThckMYNSdlUMPUyhOBgcJ5loC2VzFXWE0i4RvA2vDWMqgFPSRewVnqXPv9nMJVJt50IG2es95v/G54lBHNd4KVOytFBJPWnVmfjXRDArMtRgy0266jvea7wfUt/ZWConVPCqNFVWR4MXd8Z/+LHZ2dgSdLf91eNjxSkXkoQq982USQviVFxH1o+scMvMCyIuK56VKDiJv+qWuiDw87x3qQu1I29xnWhWqb11WF3paFWoaArmulJ5tIFSjHv45nvx699X5d/C2YfVtRx4a+Ujrou63+YhrHDfsmRiA0w1X8HStebrs9gqQpAKMrZRPt1t7d5wUufsQwF4ZWcxA4W3g5Mvpkm0NDzTWbXD+n9oyWseeZz0Hc03quBprTxe8FkRw17Jzfhie9J6r2b1C+3oSewXP8e/9Dp7v4XeF63a/t/Lu2bZmIOX9THdb/168gHJr69736ebufL8jj7bn/G8vt/Dfo1l+XXVDQN3Ro2teCviNhlG1fK7AaxaqUDvqpyqstnrNRCEOVO6lfPdrby2geGMDy9MhH14ro7itIvW27KTZLaKUVqAEbK5MqcATq3nMlleB/DW/vq6O9wapb7ctWH1sPmoYTAxqtQrl0O3iypWQWfJWCFlkDpad7jMzj2yz2y2OFbdbrP1fEVqUgzatAJ5Kauy71cjf3qbTfftAg+y+VNKK7vFah44MYgEN9Hqzi1mG9sA5PuuGCjS6kR9okH26nr1dywCA1QysJdHq8vZdkMqGcS8b/j22A96b0FA81AFtAUbNaYgy0FG/091QmB+GdKt3fl5bubW6sYXnsxpd9TNm6z11db3t+1sHJeQb75v5ro8K/D32Cp5uebdu+dCEt+6o5AC1UfZd37f1u3X+W5mNUggeEwpUZLHeqGfc46N0ENRkehrfCQUzHe/aW+uoGkHDViY2tRks35R9320GSZMZlHLL7fXltAJrzT9okm8WIZYsxCQJkrQO5bC7HJzgLYFsWse8973A+laGMg2UtM1mwOocY53B03hhMDEozwGtTKkdb6rQb7mnzOw89HQJxd0TaPi3M1jHRsDYIZHDfJztvvpqHq8ytKU8sFruGPu2YSwVkTK6G74utTKK2/lWxT+hYTnXcYx7Kub4LR3qdhHljorWuRLV4f+JzlWsbnSeWx4TGjYMIDMpIaYB+r1W8NS0V0ACOvR076/lW25tGo2l02A3G6WaFS1Y8Qr6PWZXPMGMDetJvzs+QRMaimYeJS3mNKhLQCo34L5qBhYeprARECyYawnAXAmZH9MIkurQnyTae2RWEyhfEz4Xb26gcE9xg7MNYKn7Iix+xw3SpjOIeYPekPo2fqcOPZ1Fwg00ylM6Qo7UscBg4pXwdo85UaxjiGEOAEBnBQ5kH3MWMbVk4xLWp+pdV1/qlKcjeELprvj2NpGZXoYW1F/sVbNQQqsilSQJic4r1mml1bD7XKW2rkT9P7BxFZvskRX55jLyAFRjw6d3z4Zxrwr9Vq+9BJWb5ztOZgDPVXXbUMS9akd52rCedHb5twv8PdqGTxZQ7JnzTic8zDG70urdeJAEnnTkvY3nyrxmoep5x/wwg5kln2APcHo8nnT0CgTyCYa9PQptF2/u0EXzc5203h4Fr+6gN6y+be8BWlEslMZ8GJrBxCvh7e7yXl0MMczh1wAg7MSmcZQ3BTaw0HX11dbQd11Jl52xbJ8hAl8TClTvEEDjnzd9c5waXQ0LAJTDrkSt8KtYL3MtgWxa9QxBeHbjjsFHGUL0Lzfvd6wj9dC9Mq0ZWF9VobvDnKJrDoAFazu8YQn6PcwPMyg1hpREMXz+gK8THOboYsHaBmYUn9/FN2BslIHTqGfjrcCshBIyk06AY+8WUdrOuEMRTmCK1UTXXJIG26oC7jwJWen+VCAgj73UPAFBn/WtN0/jisHEK+Hp8t3bRMYzYWhgE0mk0p3jlyewXxo58s0NpB52NK7NKzl3nkIu2WzIS1omZCzbR+ex6Pa4tTXEnis888MMSukUko3GdTuDTMiVaFYLuYr12is4t+c9KDrDHZ3zlkLH4Lv5llugUvOCoXNOhr21jqynfH2F/B7NQKxtDstpMFGQvEMGPvMKmuJINud3NIKixnfquIg61KHCCcZWZt15DZ73Kzk4c3Sa83O8x5aJTa0E9UbSOT5mk8hvZ7DZ6HXZ20RmO4/kbCNPQPaeZ/Krp6zbn2fR8Tv0qG/trVQrbc3Aglby9ICMpwunnYHRlMfMQQyS5P5limgTLEPJ0B7UgbkYJO0k90ujR4Z2L4XUZAGKmAcAqDlgXZKcRi/dMVExrUfqBWjb/4MKLKl1LCJXgfDuIzcDa1KCcwrkURHeilb1n9/QTFvpfRW9V4AUzyJvCqfyv7kB/WEMsTUF4pazST50DD7gezXK7VCBM8zhmSCa1lGfBQANy7kMEnEJWQB503lGgVUD7N0UYloJQAlSRyAQW1Mg7jjXrkG/R/yWDnUyg5iUAdI6KoaK0kMLNuKn0FDFsWLOQJqUkAHQ9TvuFZz5CO4cj/idCvJSwv3eeVTESTwhpNexFseKqDjDxwAAFfphsfm7x+/Uoc/FnPJspG2Utfteo55uPy/C61v55kZbWtXoHlocN1yC/KTtFSDFgYrotyJrx+WA+8PyCmLDmIuheKOOYl8Bw+DMNQkJVHzuNBh99lYKsYPlru/eel352n+PqPo/h2wYa2Uk74z3Ffm44xLkREQ0uFoZ1lSSgQQB4DAHEdGJkW8WIUJfH6Fnw0xoWLl52pmgs4LBxEmbXYHwq02IToUzu1/rveGJid8Rvg0qAafxexB9HTjMQUREREORdnZ2BABcvnLltPNCRERE5xDv5jijeHdCf1heRMPhOUSD4N0cREREdCIYTBAREdFQGEwQERHRUBhMEBER0VD+P4aVPDG5A0SDAAAAAElFTkSuQmCC))"
      ],
      "metadata": {
        "id": "BnpEpmqP4bdO"
      }
    },
    {
      "cell_type": "markdown",
      "source": [
        "Как видно из полученных данных $𝛹_n = 4 < 9.0443 = q$\n",
        "\n",
        "Значит гипотезу принимаем\n"
      ],
      "metadata": {
        "id": "6M5xAMNN51Jn"
      }
    }
  ]
}